{
 "metadata": {
  "language_info": {
   "codemirror_mode": {
    "name": "ipython",
    "version": 3
   },
   "file_extension": ".py",
   "mimetype": "text/x-python",
   "name": "python",
   "nbconvert_exporter": "python",
   "pygments_lexer": "ipython3",
   "version": "3.9.1"
  },
  "orig_nbformat": 4,
  "kernelspec": {
   "name": "python3",
   "display_name": "Python 3.9.1 64-bit"
  },
  "interpreter": {
   "hash": "63fd5069d213b44bf678585dea6b12cceca9941eaf7f819626cde1f2670de90d"
  }
 },
 "nbformat": 4,
 "nbformat_minor": 2,
 "cells": [
  {
   "cell_type": "code",
   "execution_count": 65,
   "metadata": {},
   "outputs": [],
   "source": [
    "from api import TrafikverketAPI\n",
    "import questionary\n",
    "import requests\n",
    "import coloredlogs\n",
    "import logging\n",
    "from requests.packages.urllib3.exceptions import InsecureRequestWarning\n",
    "import questionary\n",
    "from tqdm import tqdm"
   ]
  },
  {
   "cell_type": "code",
   "execution_count": 66,
   "metadata": {},
   "outputs": [],
   "source": [
    "# Disable insecure request warnings\n",
    "requests.packages.urllib3.disable_warnings(InsecureRequestWarning)"
   ]
  },
  {
   "cell_type": "code",
   "execution_count": 67,
   "metadata": {},
   "outputs": [],
   "source": [
    "logger = logging.getLogger()\n",
    "logger.disabled = True\n",
    "logger = logging.getLogger(__name__)\n",
    "\n",
    "# Setup logging\n",
    "coloredlogs.install(\n",
    "    level=20,\n",
    "    fmt=\"[%(levelname)s] %(asctime)s: %(message)s\",\n",
    "    level_styles={\n",
    "        \"critical\": {\"bold\": True, \"color\": \"red\"},\n",
    "        \"debug\": {\"color\": \"green\"},\n",
    "        \"error\": {\"color\": \"red\"},\n",
    "        \"info\": {\"color\": \"white\"},\n",
    "        \"notice\": {\"color\": \"magenta\"},\n",
    "        \"spam\": {\"color\": \"green\", \"faint\": True},\n",
    "        \"success\": {\"bold\": True, \"color\": \"green\"},\n",
    "        \"verbose\": {\"color\": \"blue\"},\n",
    "        \"warning\": {\"color\": \"yellow\"},\n",
    "    },\n",
    "    logger=logger,\n",
    "    field_styles={\n",
    "        \"asctime\": {\"color\": \"cyan\"},\n",
    "        \"levelname\": {\"bold\": True, \"color\": \"black\"},\n",
    "    },\n",
    ")"
   ]
  },
  {
   "cell_type": "code",
   "execution_count": 68,
   "metadata": {},
   "outputs": [],
   "source": [
    "COOKIES = {'forarprov-ext':'ffffffff0914194145525d5f4f58455e445a4a423660',\n",
    "'_pk_id.4.825a':'f363024c09bf6441.1627998880.',\n",
    "'_pk_ref.4.825a':'%5B%22%22%2C%22%22%2C1627998880%2C%22https%3A%2F%2Fwww.trafikverket.se%2F%22%5D',\n",
    "'_pk_ses.4.825a':'1',\n",
    "'ASP.NET_SessionId':'et03qewm20tmfm3l2i4sricm',\n",
    "'LoginValid':'2021-08-03 16:27',\n",
    "'FpsExternalIdentity':'D47D328756636AD23417312798AF4DAAA4073268D3710322FDF5143B31B59335719929C80521F1A8EE989AB51D9BC53C4D343F25A0FCDE2AE73BA2C3463CBDFE4A22B3D5A26599C7237010B41301418A38A7FAD2932548EF11B102B04BBD73A6300A1A15FCE90D5B09F60D7493B39E828A5D4CFAEDF873AD038E5A9D0F5B7A2680E8C49699E4BB63E8D739BFAE2F163E11D94761E79815604A3929AAE31FD5F0C9C035D7645D80223314B536DBDD4167EF2440DF0BDA8F600BA20B5653D09BDBC85C50155FF5565C210CF51FC220FEA1E75D27763C9512704F9147919AD56AAA19CDD8362DC33EC09C20CC195E9B8E64B36FB6D08D0AD4BB30F1EF04AA0E557E0F961E4330EE104C09760FCA95AA1C5FCBF43CA8F88B29649CD912A2AF44DF59D60561B28360AC4060FF97121DEF61C107581EC3158A851646B842F3D827A19ED3B75DB2503B3DB3D82065EA8D64DA3A80F604691AA7C9ADE7EB5DC19817AF14241F8F042F2FFE2B242D1F88595E3C7D057FFB832371052D677D5363B6272E226E2A8F94D4B419732CF25DFAFA67784A9C67DBF9B3C54E36DFE4E530D0E01715F131586BBBF3CDCD261D1CF3406E62BA'}\n",
    "USERAGENT = 'Mozilla/5.0 (Windows NT 10.0; Win64; x64) AppleWebKit/537.36 (KHTML, like Gecko) Chrome/42.0.2311.135 Safari/537.36 Edge/12.246'\n",
    "\n",
    "PROXY = {\"http\": 'http://127.0.0.1:8888',\"https\": 'http://127.0.0.1:8888'}\n",
    "\n"
   ]
  },
  {
   "cell_type": "code",
   "execution_count": 69,
   "metadata": {},
   "outputs": [],
   "source": []
  },
  {
   "cell_type": "code",
   "execution_count": 70,
   "metadata": {},
   "outputs": [],
   "source": [
    "# Load class into object\n",
    "trafikverket_api = TrafikverketAPI(cookies=COOKIES, useragent=USERAGENT, proxy=PROXY, SSN='20020214-1891')\n",
    "\n",
    "available_rides_list = []"
   ]
  },
  {
   "cell_type": "code",
   "execution_count": 71,
   "metadata": {},
   "outputs": [
    {
     "output_type": "stream",
     "name": "stderr",
     "text": [
      "100%|██████████| 1000/1000 [06:12<00:00,  2.68it/s]\n"
     ]
    },
    {
     "output_type": "execute_result",
     "data": {
      "text/plain": [
       "{'occasions': [{'examinationId': None,\n",
       "   'examinationCategory': 2,\n",
       "   'duration': {'start': '2021-11-16T08:15:00+01:00',\n",
       "    'end': '2021-11-16T09:00:00+01:00'},\n",
       "   'examinationTypeId': 12,\n",
       "   'locationId': 1000001,\n",
       "   'occasionChoiceId': 1,\n",
       "   'vehicleTypeId': 2,\n",
       "   'languageId': 13,\n",
       "   'tachographTypeId': 1,\n",
       "   'name': 'Körprov B',\n",
       "   'properties': None,\n",
       "   'date': '2021-11-16',\n",
       "   'time': '08:15',\n",
       "   'locationName': 'Örebro',\n",
       "   'cost': '1.300 kr',\n",
       "   'costText': ' (med bil)',\n",
       "   'increasedFee': False,\n",
       "   'isEducatorBooking': None,\n",
       "   'isLateCancellation': False,\n",
       "   'isOutsideValidDuration': False,\n",
       "   'isUsingTaxiKnowledgeValidDuration': False,\n",
       "   'placeAddress': None,\n",
       "   'placeCoordinate': None}],\n",
       " 'cost': '1.300 kr'}"
      ]
     },
     "metadata": {},
     "execution_count": 71
    }
   ],
   "source": [
    "# Get server response\n",
    "for i in tqdm(range(1000000,1001000)):\n",
    "    available_rides_list.extend(trafikverket_api.get_available_dates(location_id=i, extended_information=True))\n",
    "\n",
    "available_rides_list[1]"
   ]
  },
  {
   "cell_type": "code",
   "execution_count": 72,
   "metadata": {
    "tags": []
   },
   "outputs": [
    {
     "output_type": "execute_result",
     "data": {
      "text/plain": [
       "{'date': '2021-11-16',\n",
       " 'time': '08:15',\n",
       " 'location': 'Örebro',\n",
       " 'cost': '1.300 kr',\n",
       " 'language': 13}"
      ]
     },
     "metadata": {},
     "execution_count": 72
    }
   ],
   "source": [
    "# Remove unused information\n",
    "clean_dict = [{'date':ride['occasions'][0]['date'],'time':ride['occasions'][0]['time'],'location':ride['occasions'][0]['locationName'],'cost':ride['occasions'][0]['cost'],'language':ride['occasions'][0]['languageId']} for ride in available_rides_list]\n",
    "clean_dict[1]"
   ]
  },
  {
   "cell_type": "code",
   "execution_count": 73,
   "metadata": {},
   "outputs": [
    {
     "output_type": "execute_result",
     "data": {
      "text/plain": [
       "{'date': '2022-07-13',\n",
       " 'time': '14:45',\n",
       " 'location': 'Flen',\n",
       " 'cost': '1.300 kr',\n",
       " 'language': 13}"
      ]
     },
     "metadata": {},
     "execution_count": 73
    }
   ],
   "source": [
    "# Sort available rides depending on date and time in ascending order\n",
    "sorted_ride_list = sorted(clean_dict,key=lambda x: (x['date'],x['time']))\n",
    "sorted_ride_list[-1]"
   ]
  },
  {
   "cell_type": "code",
   "execution_count": 74,
   "metadata": {},
   "outputs": [
    {
     "output_type": "stream",
     "name": "stdout",
     "text": [
      "[13] 2021-08-05 kl.09:00 i Umeå (för 1.300 kr)\n[13] 2021-08-05 kl.09:00 i Örnsköldsvik (för 1.300 kr)\n[13] 2021-08-05 kl.10:00 i Umeå (för 1.300 kr)\n[13] 2021-08-05 kl.10:45 i Umeå (för 1.300 kr)\n[13] 2021-08-05 kl.11:30 i Umeå (för 1.300 kr)\n[13] 2021-08-05 kl.11:30 i Örnsköldsvik (för 1.300 kr)\n[13] 2021-08-05 kl.13:00 i Örnsköldsvik (för 1.300 kr)\n[13] 2021-08-05 kl.15:30 i Örnsköldsvik (för 1.300 kr)\n[13] 2021-08-17 kl.10:00 i Pajala (för 1.300 kr)\n[13] 2021-08-17 kl.10:45 i Pajala (för 1.300 kr)\n[13] 2021-08-20 kl.08:15 i Örnsköldsvik (för 1.300 kr)\n[13] 2021-08-20 kl.13:15 i Göteborg Högsbo (för 1.300 kr)\n[13] 2021-09-01 kl.13:45 i Härnösand (för 1.300 kr)\n[13] 2021-09-03 kl.10:45 i Örnsköldsvik (för 1.300 kr)\n[13] 2021-09-08 kl.10:00 i Övertorneå (för 1.300 kr)\n[13] 2021-09-10 kl.08:15 i Umeå (för 1.300 kr)\n[13] 2021-09-10 kl.08:15 i Karlskrona (för 1.300 kr)\n[13] 2021-10-07 kl.10:45 i Skellefteå (för 1.300 kr)\n[13] 2021-10-07 kl.11:30 i Skellefteå (för 1.300 kr)\n[13] 2021-10-07 kl.13:45 i Skellefteå (för 1.300 kr)\n[13] 2021-10-07 kl.14:45 i Skellefteå (för 1.300 kr)\n[13] 2021-10-07 kl.14:45 i Skellefteå (för 1.300 kr)\n[13] 2021-10-11 kl.11:30 i Skellefteå (för 1.300 kr)\n[13] 2021-10-11 kl.14:45 i Skellefteå (för 1.300 kr)\n[13] 2021-10-11 kl.15:30 i Skellefteå (för 1.300 kr)\n[13] 2021-10-11 kl.17:15 i Skellefteå (för 1.300 kr)\n[13] 2021-10-12 kl.08:15 i Skellefteå (för 1.300 kr)\n[13] 2021-10-12 kl.10:00 i Skellefteå (för 1.300 kr)\n[13] 2021-10-12 kl.10:45 i Skellefteå (för 1.300 kr)\n[13] 2021-10-12 kl.11:30 i Skellefteå (för 1.300 kr)\n[13] 2021-10-12 kl.13:00 i Skellefteå (för 1.300 kr)\n[13] 2021-10-12 kl.13:45 i Skellefteå (för 1.300 kr)\n[13] 2021-10-12 kl.15:30 i Skellefteå (för 1.300 kr)\n[13] 2021-10-13 kl.08:15 i Skellefteå (för 1.300 kr)\n[13] 2021-10-13 kl.10:00 i Skellefteå (för 1.300 kr)\n[13] 2021-10-13 kl.10:45 i Skellefteå (för 1.300 kr)\n[13] 2021-10-13 kl.11:30 i Skellefteå (för 1.300 kr)\n[13] 2021-10-14 kl.10:00 i Arvidsjaur (för 1.300 kr)\n[13] 2021-10-14 kl.10:45 i Piteå (för 1.300 kr)\n[13] 2021-10-14 kl.10:45 i Arvidsjaur (för 1.300 kr)\n[13] 2021-10-14 kl.11:30 i Arvidsjaur (för 1.300 kr)\n[13] 2021-10-14 kl.13:00 i Kristianstad (för 1.300 kr)\n[13] 2021-10-14 kl.13:00 i Piteå (för 1.300 kr)\n[13] 2021-10-14 kl.13:00 i Piteå (för 1.300 kr)\n[13] 2021-10-14 kl.14:45 i Piteå (för 1.300 kr)\n[13] 2021-10-15 kl.08:15 i Karlskrona (för 1.300 kr)\n[13] 2021-10-18 kl.08:15 i Skellefteå (för 1.300 kr)\n[13] 2021-10-18 kl.09:00 i Skellefteå (för 1.300 kr)\n[13] 2021-10-18 kl.10:00 i Skellefteå (för 1.300 kr)\n[13] 2021-10-18 kl.10:45 i Skellefteå (för 1.300 kr)\n[13] 2021-10-18 kl.11:30 i Skellefteå (för 1.300 kr)\n[13] 2021-10-18 kl.13:00 i Karlskrona (för 1.300 kr)\n[13] 2021-10-18 kl.13:00 i Skellefteå (för 1.300 kr)\n[13] 2021-10-18 kl.13:45 i Karlskrona (för 1.300 kr)\n[13] 2021-10-18 kl.13:45 i Skellefteå (för 1.300 kr)\n[13] 2021-10-18 kl.14:45 i Skellefteå (för 1.300 kr)\n[13] 2021-10-18 kl.15:30 i Skellefteå (för 1.300 kr)\n[13] 2021-10-18 kl.17:00 i Örnsköldsvik (för 1.300 kr)\n[13] 2021-10-18 kl.17:15 i Skellefteå (för 1.300 kr)\n[13] 2021-10-19 kl.08:15 i Örnsköldsvik (för 1.300 kr)\n[13] 2021-10-19 kl.08:15 i Skellefteå (för 1.300 kr)\n[13] 2021-10-19 kl.09:00 i Visby (för 1.300 kr)\n[13] 2021-10-19 kl.09:00 i Skellefteå (för 1.300 kr)\n[13] 2021-10-19 kl.10:00 i Skellefteå (för 1.300 kr)\n[13] 2021-10-19 kl.10:45 i Skellefteå (för 1.300 kr)\n[13] 2021-10-19 kl.11:30 i Skellefteå (för 1.300 kr)\n[13] 2021-10-20 kl.08:15 i Skellefteå (för 1.300 kr)\n[13] 2021-10-20 kl.09:00 i Skellefteå (för 1.300 kr)\n[13] 2021-10-20 kl.10:00 i Skellefteå (för 1.300 kr)\n[13] 2021-10-20 kl.10:45 i Arjeplog (för 1.300 kr)\n[13] 2021-10-20 kl.10:45 i Skellefteå (för 1.300 kr)\n[13] 2021-10-20 kl.11:30 i Skellefteå (för 1.300 kr)\n[13] 2021-10-20 kl.13:45 i Örnsköldsvik (för 1.300 kr)\n[13] 2021-10-20 kl.14:45 i Karlskrona (för 1.300 kr)\n[13] 2021-10-20 kl.14:45 i Örnsköldsvik (för 1.300 kr)\n[13] 2021-10-20 kl.15:30 i Örnsköldsvik (för 1.300 kr)\n[13] 2021-10-21 kl.07:30 i Umeå (för 1.300 kr)\n[13] 2021-10-21 kl.07:30 i Örnsköldsvik (för 1.300 kr)\n[13] 2021-10-21 kl.08:15 i Örnsköldsvik (för 1.300 kr)\n[13] 2021-10-21 kl.09:00 i Piteå (för 1.300 kr)\n[13] 2021-10-21 kl.10:45 i Örnsköldsvik (för 1.300 kr)\n[13] 2021-10-21 kl.11:30 i Örnsköldsvik (för 1.300 kr)\n[13] 2021-10-21 kl.11:30 i Örnsköldsvik (för 1.300 kr)\n[13] 2021-10-21 kl.13:45 i Piteå (för 1.300 kr)\n[13] 2021-10-21 kl.14:45 i Örnsköldsvik (för 1.300 kr)\n[13] 2021-10-21 kl.15:30 i Örnsköldsvik (för 1.300 kr)\n[13] 2021-10-22 kl.07:30 i Örnsköldsvik (för 1.300 kr)\n[13] 2021-10-22 kl.08:15 i Örnsköldsvik (för 1.300 kr)\n[13] 2021-10-22 kl.10:45 i Skellefteå (för 1.300 kr)\n[13] 2021-10-22 kl.11:30 i Skellefteå (för 1.300 kr)\n[13] 2021-10-25 kl.07:30 i Umeå (för 1.300 kr)\n[13] 2021-10-25 kl.07:30 i Umeå (för 1.300 kr)\n[13] 2021-10-25 kl.07:30 i Växjö (för 1.300 kr)\n[13] 2021-10-25 kl.07:30 i Karlskrona (för 1.300 kr)\n[13] 2021-10-25 kl.07:30 i Örnsköldsvik (för 1.300 kr)\n[13] 2021-10-25 kl.08:15 i Umeå (för 1.300 kr)\n[13] 2021-10-25 kl.08:15 i Umeå (för 1.300 kr)\n[13] 2021-10-25 kl.08:15 i Örnsköldsvik (för 1.300 kr)\n[13] 2021-10-25 kl.08:15 i Örnsköldsvik (för 1.300 kr)\n[13] 2021-10-25 kl.09:00 i Örnsköldsvik (för 1.300 kr)\n"
     ]
    }
   ],
   "source": [
    "# Fancy print result\n",
    "for i in range(100):\n",
    "    print(f'[{sorted_ride_list[i][\"language\"]}]',sorted_ride_list[i]['date'],f'kl.{sorted_ride_list[i][\"time\"]}','i',sorted_ride_list[i]['location'], f'(för {sorted_ride_list[i][\"cost\"]})')"
   ]
  },
  {
   "cell_type": "code",
   "execution_count": null,
   "metadata": {},
   "outputs": [],
   "source": []
  }
 ]
}