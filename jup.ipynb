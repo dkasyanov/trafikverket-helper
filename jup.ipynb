{
 "metadata": {
  "language_info": {
   "codemirror_mode": {
    "name": "ipython",
    "version": 3
   },
   "file_extension": ".py",
   "mimetype": "text/x-python",
   "name": "python",
   "nbconvert_exporter": "python",
   "pygments_lexer": "ipython3",
   "version": "3.9.1"
  },
  "orig_nbformat": 4,
  "kernelspec": {
   "name": "python3",
   "display_name": "Python 3.9.1 64-bit"
  },
  "interpreter": {
   "hash": "63fd5069d213b44bf678585dea6b12cceca9941eaf7f819626cde1f2670de90d"
  }
 },
 "nbformat": 4,
 "nbformat_minor": 2,
 "cells": [
  {
   "cell_type": "code",
   "execution_count": 14,
   "source": [
    "from api import TrafikverketAPI\r\n",
    "import questionary\r\n",
    "import requests\r\n",
    "import coloredlogs\r\n",
    "import logging\r\n",
    "from requests.packages.urllib3.exceptions import InsecureRequestWarning\r\n",
    "import questionary\r\n",
    "from tqdm import tqdm"
   ],
   "outputs": [],
   "metadata": {}
  },
  {
   "cell_type": "code",
   "execution_count": 15,
   "source": [
    "# Disable insecure request warnings\r\n",
    "requests.packages.urllib3.disable_warnings(InsecureRequestWarning)"
   ],
   "outputs": [],
   "metadata": {}
  },
  {
   "cell_type": "code",
   "execution_count": 16,
   "source": [
    "logger = logging.getLogger()\r\n",
    "logger.disabled = True\r\n",
    "logger = logging.getLogger(__name__)\r\n",
    "\r\n",
    "# Setup logging\r\n",
    "coloredlogs.install(\r\n",
    "    level=20,\r\n",
    "    fmt=\"[%(levelname)s] %(asctime)s: %(message)s\",\r\n",
    "    level_styles={\r\n",
    "        \"critical\": {\"bold\": True, \"color\": \"red\"},\r\n",
    "        \"debug\": {\"color\": \"green\"},\r\n",
    "        \"error\": {\"color\": \"red\"},\r\n",
    "        \"info\": {\"color\": \"white\"},\r\n",
    "        \"notice\": {\"color\": \"magenta\"},\r\n",
    "        \"spam\": {\"color\": \"green\", \"faint\": True},\r\n",
    "        \"success\": {\"bold\": True, \"color\": \"green\"},\r\n",
    "        \"verbose\": {\"color\": \"blue\"},\r\n",
    "        \"warning\": {\"color\": \"yellow\"},\r\n",
    "    },\r\n",
    "    logger=logger,\r\n",
    "    field_styles={\r\n",
    "        \"asctime\": {\"color\": \"cyan\"},\r\n",
    "        \"levelname\": {\"bold\": True, \"color\": \"black\"},\r\n",
    "    },\r\n",
    ")"
   ],
   "outputs": [],
   "metadata": {}
  },
  {
   "cell_type": "code",
   "execution_count": 18,
   "source": [
    "COOKIES = {'forarprov-ext':'ffffffff0914194145525d5f4f58455e445a4a423660',\r\n",
    "'_pk_id.4.825a':'f363024c09bf6441.1627998880.',\r\n",
    "'_pk_ref.4.825a':'%5B%22%22%2C%22%22%2C1627998880%2C%22https%3A%2F%2Fwww.trafikverket.se%2F%22%5D',\r\n",
    "'_pk_ses.4.825a':'1',\r\n",
    "'ASP.NET_SessionId':'et03qewm20tmfm3l2i4sricm',\r\n",
    "'LoginValid':'2021-08-03 16:27',\r\n",
    "'FpsExternalIdentity':'D47D328756636AD23417312798AF4DAAA4073268D3710322FDF5143B31B59335719929C80521F1A8EE989AB51D9BC53C4D343F25A0FCDE2AE73BA2C3463CBDFE4A22B3D5A26599C7237010B41301418A38A7FAD2932548EF11B102B04BBD73A6300A1A15FCE90D5B09F60D7493B39E828A5D4CFAEDF873AD038E5A9D0F5B7A2680E8C49699E4BB63E8D739BFAE2F163E11D94761E79815604A3929AAE31FD5F0C9C035D7645D80223314B536DBDD4167EF2440DF0BDA8F600BA20B5653D09BDBC85C50155FF5565C210CF51FC220FEA1E75D27763C9512704F9147919AD56AAA19CDD8362DC33EC09C20CC195E9B8E64B36FB6D08D0AD4BB30F1EF04AA0E557E0F961E4330EE104C09760FCA95AA1C5FCBF43CA8F88B29649CD912A2AF44DF59D60561B28360AC4060FF97121DEF61C107581EC3158A851646B842F3D827A19ED3B75DB2503B3DB3D82065EA8D64DA3A80F604691AA7C9ADE7EB5DC19817AF14241F8F042F2FFE2B242D1F88595E3C7D057FFB832371052D677D5363B6272E226E2A8F94D4B419732CF25DFAFA67784A9C67DBF9B3C54E36DFE4E530D0E01715F131586BBBF3CDCD261D1CF3406E62BA'}\r\n",
    "USERAGENT = 'Mozilla/5.0 (Windows NT 10.0; Win64; x64) AppleWebKit/537.36 (KHTML, like Gecko) Chrome/42.0.2311.135 Safari/537.36 Edge/12.246'\r\n",
    "\r\n",
    "PROXY = {\"http\": 'http://127.0.0.1:8888',\"https\": 'http://127.0.0.1:8888'}\r\n",
    "PROXY = {\"http\": None,\"https\": None}\r\n",
    "\r\n",
    "valid_location_ids = [1000001,1000003,1000004,1000005,1000006,1000007,1000008,1000009,1000010,1000011,1000012,1000015,1000019,1000020,1000021,1000022,1000027,1000028,1000029,1000030,1000031,1000035,1000036,1000037,1000038,1000039,1000040,1000041,1000044,1000045,1000046,1000047,1000048,1000053,1000055,1000056,1000057,1000059,1000060,1000061,1000062,1000063,1000064,1000065,1000066,1000067,1000068,1000069,1000070,1000071,1000072,1000074,1000075,1000076,1000077,1000078,1000082,1000083,1000084,1000085,1000086,1000087,1000088,1000089,1000090,1000091,1000092,1000093,1000094,1000095,1000096,1000097,1000098,1000099,1000100,1000101,1000102,1000103,1000104,1000105,1000106,1000107,1000108,1000109,1000111,1000112,1000114,1000115,1000116,1000118,1000119,1000120,1000121,1000122,1000123,1000124,1000126,1000127,1000129,1000130,1000132,1000134,1000135,1000137,1000139,1000143,1000145,1000149,1000317,1000318,1000321,1000322,1000325,1000326,1000327,1000328,1000329,1000330]\r\n"
   ],
   "outputs": [],
   "metadata": {}
  },
  {
   "cell_type": "code",
   "execution_count": 19,
   "source": [
    "# Load class into object\r\n",
    "trafikverket_api = TrafikverketAPI(cookies=COOKIES, useragent=USERAGENT, proxy=PROXY, SSN='20020214-1891')\r\n",
    "\r\n",
    "available_rides_list = []"
   ],
   "outputs": [],
   "metadata": {}
  },
  {
   "cell_type": "code",
   "execution_count": 20,
   "source": [
    "# Get server response\r\n",
    "for i in tqdm(valid_location_ids):\r\n",
    "    available_rides_list.extend(trafikverket_api.get_available_dates(location_id=i, extended_information=True))\r\n",
    "\r\n",
    "available_rides_list[1]"
   ],
   "outputs": [
    {
     "output_type": "stream",
     "name": "stderr",
     "text": [
      "100%|██████████| 118/118 [03:11<00:00,  1.63s/it]\n"
     ]
    },
    {
     "output_type": "execute_result",
     "data": {
      "text/plain": [
       "{'occasions': [{'examinationId': None,\n",
       "   'examinationCategory': 2,\n",
       "   'duration': {'start': '2021-11-22T08:15:00+01:00',\n",
       "    'end': '2021-11-22T09:00:00+01:00'},\n",
       "   'examinationTypeId': 12,\n",
       "   'locationId': 1000001,\n",
       "   'occasionChoiceId': 1,\n",
       "   'vehicleTypeId': 2,\n",
       "   'languageId': 13,\n",
       "   'tachographTypeId': 1,\n",
       "   'name': 'Körprov B',\n",
       "   'properties': None,\n",
       "   'date': '2021-11-22',\n",
       "   'time': '08:15',\n",
       "   'locationName': 'Örebro',\n",
       "   'cost': '1.300 kr',\n",
       "   'costText': ' (med bil)',\n",
       "   'increasedFee': False,\n",
       "   'isEducatorBooking': None,\n",
       "   'isLateCancellation': False,\n",
       "   'isOutsideValidDuration': False,\n",
       "   'isUsingTaxiKnowledgeValidDuration': False,\n",
       "   'placeAddress': None,\n",
       "   'placeCoordinate': None}],\n",
       " 'cost': '1.300 kr'}"
      ]
     },
     "metadata": {},
     "execution_count": 20
    }
   ],
   "metadata": {}
  },
  {
   "cell_type": "code",
   "execution_count": 21,
   "source": [
    "# Remove unused information\r\n",
    "clean_dict = [{'date':ride['occasions'][0]['date'],'time':ride['occasions'][0]['time'],'location':ride['occasions'][0]['locationName'],'cost':ride['occasions'][0]['cost'],'language':ride['occasions'][0]['languageId']} for ride in available_rides_list]\r\n",
    "clean_dict[1]"
   ],
   "outputs": [
    {
     "output_type": "execute_result",
     "data": {
      "text/plain": [
       "{'date': '2021-11-22',\n",
       " 'time': '08:15',\n",
       " 'location': 'Örebro',\n",
       " 'cost': '1.300 kr',\n",
       " 'language': 13}"
      ]
     },
     "metadata": {},
     "execution_count": 21
    }
   ],
   "metadata": {
    "tags": []
   }
  },
  {
   "cell_type": "code",
   "execution_count": 22,
   "source": [
    "# Sort available rides depending on date and time in ascending order\r\n",
    "sorted_ride_list = sorted(clean_dict,key=lambda x: (x['date'],x['time']))\r\n",
    "sorted_ride_list[-1]"
   ],
   "outputs": [
    {
     "output_type": "execute_result",
     "data": {
      "text/plain": [
       "{'date': '2022-07-13',\n",
       " 'time': '14:45',\n",
       " 'location': 'Flen',\n",
       " 'cost': '1.300 kr',\n",
       " 'language': 13}"
      ]
     },
     "metadata": {},
     "execution_count": 22
    }
   ],
   "metadata": {}
  },
  {
   "cell_type": "code",
   "execution_count": 23,
   "source": [
    "# Fancy print result\r\n",
    "for i in range(100):\r\n",
    "    print(f'[{sorted_ride_list[i][\"language\"]}]',sorted_ride_list[i]['date'],f'kl.{sorted_ride_list[i][\"time\"]}','i',sorted_ride_list[i]['location'], f'(för {sorted_ride_list[i][\"cost\"]})')"
   ],
   "outputs": [
    {
     "output_type": "stream",
     "name": "stdout",
     "text": [
      "[13] 2021-08-06 kl.07:30 i Gävle (för 1.300 kr)\n",
      "[13] 2021-08-06 kl.08:15 i Gävle (för 1.300 kr)\n",
      "[13] 2021-08-07 kl.14:45 i Växjö (för 1.540 kr)\n",
      "[13] 2021-08-12 kl.10:45 i Strömsund (för 1.300 kr)\n",
      "[13] 2021-08-12 kl.11:30 i Strömsund (för 1.300 kr)\n",
      "[13] 2021-08-31 kl.14:15 i Kungälv (för 1.300 kr)\n",
      "[13] 2021-09-20 kl.11:30 i Boden (för 1.300 kr)\n",
      "[13] 2021-10-06 kl.13:00 i Skellefteå (för 1.300 kr)\n",
      "[13] 2021-10-06 kl.14:45 i Skellefteå (för 1.300 kr)\n",
      "[13] 2021-10-07 kl.14:45 i Skellefteå (för 1.300 kr)\n",
      "[13] 2021-10-07 kl.14:45 i Skellefteå (för 1.300 kr)\n",
      "[13] 2021-10-11 kl.11:30 i Skellefteå (för 1.300 kr)\n",
      "[13] 2021-10-11 kl.14:45 i Skellefteå (för 1.300 kr)\n",
      "[13] 2021-10-11 kl.15:30 i Skellefteå (för 1.300 kr)\n",
      "[13] 2021-10-12 kl.08:15 i Skellefteå (för 1.300 kr)\n",
      "[13] 2021-10-12 kl.10:00 i Skellefteå (för 1.300 kr)\n",
      "[13] 2021-10-12 kl.10:45 i Skellefteå (för 1.300 kr)\n",
      "[13] 2021-10-12 kl.11:30 i Skellefteå (för 1.300 kr)\n",
      "[13] 2021-10-12 kl.13:00 i Skellefteå (för 1.300 kr)\n",
      "[13] 2021-10-12 kl.13:45 i Skellefteå (för 1.300 kr)\n",
      "[13] 2021-10-12 kl.15:30 i Skellefteå (för 1.300 kr)\n",
      "[13] 2021-10-13 kl.08:15 i Skellefteå (för 1.300 kr)\n",
      "[13] 2021-10-13 kl.10:00 i Skellefteå (för 1.300 kr)\n",
      "[13] 2021-10-13 kl.10:45 i Skellefteå (för 1.300 kr)\n",
      "[13] 2021-10-13 kl.11:30 i Skellefteå (för 1.300 kr)\n",
      "[13] 2021-10-14 kl.10:00 i Arvidsjaur (för 1.300 kr)\n",
      "[13] 2021-10-14 kl.10:45 i Piteå (för 1.300 kr)\n",
      "[13] 2021-10-14 kl.10:45 i Arvidsjaur (för 1.300 kr)\n",
      "[13] 2021-10-14 kl.11:30 i Arvidsjaur (för 1.300 kr)\n",
      "[13] 2021-10-14 kl.13:00 i Piteå (för 1.300 kr)\n",
      "[13] 2021-10-14 kl.13:00 i Piteå (för 1.300 kr)\n",
      "[13] 2021-10-14 kl.14:45 i Piteå (för 1.300 kr)\n",
      "[13] 2021-10-18 kl.08:15 i Skellefteå (för 1.300 kr)\n",
      "[13] 2021-10-18 kl.09:00 i Skellefteå (för 1.300 kr)\n",
      "[13] 2021-10-18 kl.10:00 i Skellefteå (för 1.300 kr)\n",
      "[13] 2021-10-18 kl.10:45 i Skellefteå (för 1.300 kr)\n",
      "[13] 2021-10-18 kl.11:30 i Skellefteå (för 1.300 kr)\n",
      "[13] 2021-10-18 kl.13:00 i Karlskrona (för 1.300 kr)\n",
      "[13] 2021-10-18 kl.13:00 i Skellefteå (för 1.300 kr)\n",
      "[13] 2021-10-18 kl.13:45 i Karlskrona (för 1.300 kr)\n",
      "[13] 2021-10-18 kl.13:45 i Skellefteå (för 1.300 kr)\n",
      "[13] 2021-10-18 kl.14:45 i Skellefteå (för 1.300 kr)\n",
      "[13] 2021-10-18 kl.15:30 i Skellefteå (för 1.300 kr)\n",
      "[13] 2021-10-18 kl.17:15 i Skellefteå (för 1.300 kr)\n",
      "[13] 2021-10-19 kl.08:15 i Skellefteå (för 1.300 kr)\n",
      "[13] 2021-10-19 kl.09:00 i Vetlanda (för 1.300 kr)\n",
      "[13] 2021-10-19 kl.09:00 i Skellefteå (för 1.300 kr)\n",
      "[13] 2021-10-19 kl.10:00 i Skellefteå (för 1.300 kr)\n",
      "[13] 2021-10-19 kl.10:45 i Karlskrona (för 1.300 kr)\n",
      "[13] 2021-10-19 kl.10:45 i Skellefteå (för 1.300 kr)\n",
      "[13] 2021-10-19 kl.11:30 i Skellefteå (för 1.300 kr)\n",
      "[13] 2021-10-19 kl.13:45 i Karlskrona (för 1.300 kr)\n",
      "[13] 2021-10-19 kl.15:30 i Karlskrona (för 1.300 kr)\n",
      "[13] 2021-10-20 kl.08:15 i Skellefteå (för 1.300 kr)\n",
      "[13] 2021-10-20 kl.09:00 i Skellefteå (för 1.300 kr)\n",
      "[13] 2021-10-20 kl.10:00 i Skellefteå (för 1.300 kr)\n",
      "[13] 2021-10-20 kl.10:45 i Skellefteå (för 1.300 kr)\n",
      "[13] 2021-10-20 kl.11:30 i Skellefteå (för 1.300 kr)\n",
      "[13] 2021-10-20 kl.15:30 i Örnsköldsvik (för 1.300 kr)\n",
      "[13] 2021-10-21 kl.07:30 i Örnsköldsvik (för 1.300 kr)\n",
      "[13] 2021-10-21 kl.08:15 i Örnsköldsvik (för 1.300 kr)\n",
      "[13] 2021-10-21 kl.11:30 i Örnsköldsvik (för 1.300 kr)\n",
      "[13] 2021-10-21 kl.13:45 i Piteå (för 1.300 kr)\n",
      "[13] 2021-10-21 kl.14:45 i Örnsköldsvik (för 1.300 kr)\n",
      "[13] 2021-10-21 kl.15:30 i Örnsköldsvik (för 1.300 kr)\n",
      "[13] 2021-10-22 kl.07:30 i Örnsköldsvik (för 1.300 kr)\n",
      "[13] 2021-10-22 kl.08:15 i Örnsköldsvik (för 1.300 kr)\n",
      "[13] 2021-10-22 kl.10:45 i Skellefteå (för 1.300 kr)\n",
      "[13] 2021-10-22 kl.11:30 i Skellefteå (för 1.300 kr)\n",
      "[13] 2021-10-25 kl.07:30 i Umeå (för 1.300 kr)\n",
      "[13] 2021-10-25 kl.07:30 i Karlskrona (för 1.300 kr)\n",
      "[13] 2021-10-25 kl.07:30 i Örnsköldsvik (för 1.300 kr)\n",
      "[13] 2021-10-25 kl.08:15 i Umeå (för 1.300 kr)\n",
      "[13] 2021-10-25 kl.08:15 i Örnsköldsvik (för 1.300 kr)\n",
      "[13] 2021-10-25 kl.08:15 i Örnsköldsvik (för 1.300 kr)\n",
      "[13] 2021-10-25 kl.09:00 i Örnsköldsvik (för 1.300 kr)\n",
      "[13] 2021-10-25 kl.09:00 i Skellefteå (för 1.300 kr)\n",
      "[13] 2021-10-25 kl.10:00 i Karlskrona (för 1.300 kr)\n",
      "[13] 2021-10-25 kl.10:00 i Karlskrona (för 1.300 kr)\n",
      "[13] 2021-10-25 kl.10:00 i Skellefteå (för 1.300 kr)\n",
      "[13] 2021-10-25 kl.10:45 i Karlskrona (för 1.300 kr)\n",
      "[13] 2021-10-25 kl.11:30 i Skellefteå (för 1.300 kr)\n",
      "[13] 2021-10-25 kl.13:00 i Karlskrona (för 1.300 kr)\n",
      "[13] 2021-10-25 kl.13:00 i Karlskrona (för 1.300 kr)\n",
      "[13] 2021-10-25 kl.13:00 i Karlskrona (för 1.300 kr)\n",
      "[13] 2021-10-25 kl.13:00 i Karlskrona (för 1.300 kr)\n",
      "[13] 2021-10-25 kl.13:00 i Örnsköldsvik (för 1.300 kr)\n",
      "[13] 2021-10-25 kl.13:45 i Karlskrona (för 1.300 kr)\n",
      "[13] 2021-10-25 kl.13:45 i Karlskrona (för 1.300 kr)\n",
      "[13] 2021-10-25 kl.13:45 i Örnsköldsvik (för 1.300 kr)\n",
      "[13] 2021-10-25 kl.14:45 i Karlskrona (för 1.300 kr)\n",
      "[13] 2021-10-25 kl.14:45 i Karlskrona (för 1.300 kr)\n",
      "[13] 2021-10-25 kl.14:45 i Örnsköldsvik (för 1.300 kr)\n",
      "[13] 2021-10-25 kl.14:45 i Örnsköldsvik (för 1.300 kr)\n",
      "[13] 2021-10-25 kl.15:30 i Karlskrona (för 1.300 kr)\n",
      "[13] 2021-10-25 kl.15:30 i Örnsköldsvik (för 1.300 kr)\n",
      "[13] 2021-10-25 kl.16:20 i Karlskrona (för 1.300 kr)\n",
      "[13] 2021-10-25 kl.17:05 i Karlskrona (för 1.300 kr)\n",
      "[13] 2021-10-26 kl.07:30 i Umeå (för 1.300 kr)\n",
      "[13] 2021-10-26 kl.08:15 i Umeå (för 1.300 kr)\n"
     ]
    }
   ],
   "metadata": {}
  },
  {
   "cell_type": "code",
   "execution_count": null,
   "source": [],
   "outputs": [],
   "metadata": {}
  }
 ]
}